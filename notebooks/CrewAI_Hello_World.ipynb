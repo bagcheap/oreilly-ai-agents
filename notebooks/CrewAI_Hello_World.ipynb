{
  "cells": [
    {
      "cell_type": "markdown",
      "metadata": {
        "id": "view-in-github",
        "colab_type": "text"
      },
      "source": [
        "<a href=\"https://colab.research.google.com/github/bagcheap/oreilly-ai-agents/blob/main/notebooks/CrewAI_Hello_World.ipynb\" target=\"_parent\"><img src=\"https://colab.research.google.com/assets/colab-badge.svg\" alt=\"Open In Colab\"/></a>"
      ]
    },
    {
      "cell_type": "markdown",
      "metadata": {
        "id": "RT7vCRFaDbL1",
        "jp-MarkdownHeadingCollapsed": true
      },
      "source": [
        "# Hello World"
      ]
    },
    {
      "cell_type": "code",
      "source": [
        "!pip install --upgrade tokenizers>=0.21,<0.22\n",
        "\n",
        "!pip install 'crewai[tools]'\n"
      ],
      "metadata": {
        "id": "L2MAt4lEyjvB"
      },
      "execution_count": null,
      "outputs": []
    },
    {
      "cell_type": "code",
      "source": [
        "from IPython.display import HTML, display\n",
        "\n",
        "def set_css():\n",
        "  display(HTML('''\n",
        "  <style>\n",
        "    pre {\n",
        "        white-space: pre-wrap;\n",
        "    }\n",
        "  </style>\n",
        "  '''))\n",
        "\n",
        "get_ipython().events.register('pre_run_cell', set_css)\n"
      ],
      "metadata": {
        "id": "OFBIWuTzsE5g"
      },
      "execution_count": null,
      "outputs": []
    },
    {
      "cell_type": "code",
      "execution_count": null,
      "metadata": {
        "id": "RCMrDY-byMu0"
      },
      "outputs": [],
      "source": [
        "from crewai_tools import ScrapeWebsiteTool, FileWriterTool, TXTSearchTool\n",
        "import requests\n",
        "from crewai import Agent, Task, Crew, Process\n",
        "import os"
      ]
    },
    {
      "cell_type": "code",
      "execution_count": null,
      "metadata": {
        "id": "yIPR4n-AyMu1"
      },
      "outputs": [],
      "source": [
        "# Initialize the tool, potentially passing the session\n",
        "scrape_tool = ScrapeWebsiteTool(website_url='https://en.wikipedia.org/wiki/Artificial_intelligence')\n",
        "\n",
        "# Extract the text\n",
        "text = scrape_tool.run()\n",
        "print(text[:100])"
      ]
    },
    {
      "cell_type": "code",
      "execution_count": null,
      "metadata": {
        "id": "MiF3SyT1DeDg"
      },
      "outputs": [],
      "source": [
        "# Initialize the tool\n",
        "file_writer_tool = FileWriterTool()\n",
        "\n",
        "# Write content to a file in a specified directory\n",
        "result = file_writer_tool.run(filename='ai.txt', content = text, directory = '', overwrite='true')\n",
        "print(result)"
      ]
    },
    {
      "cell_type": "code",
      "execution_count": null,
      "metadata": {
        "id": "rRFl6gfqEN8p"
      },
      "outputs": [],
      "source": [
        "# os.environ['OPENAI_API_KEY'] = 'sk-***'\n",
        "# Retrieve the API key from Colab secrets\n",
        "from google.colab import userdata\n",
        "openai_api_key = userdata.get('OPENAI_API_KEY')\n",
        "os.environ['OPENAI_API_KEY'] = openai_api_key\n",
        "\n",
        "# Initialize the tool with a specific text file, so the agent can search within the given text file's content\n",
        "# uses chromadb to chunk and vectorize data\n",
        "search_tool = TXTSearchTool(txt='ai.txt')"
      ]
    },
    {
      "cell_type": "code",
      "source": [
        "print(search_tool.description)"
      ],
      "metadata": {
        "id": "BazlVqAerbbw"
      },
      "execution_count": null,
      "outputs": []
    },
    {
      "cell_type": "code",
      "execution_count": null,
      "metadata": {
        "id": "klRUsA9VEYR_",
        "scrolled": true
      },
      "outputs": [],
      "source": [
        "data_analyst = Agent(\n",
        "    role='Educator',\n",
        "    goal=f'Based on the context provided, answer the question.',\n",
        "    backstory='You are a data expert',\n",
        "    verbose=True,\n",
        "    allow_delegation=False,\n",
        "    tools=[search_tool]\n",
        ")\n",
        "\n",
        "test_task = Task(\n",
        "    description=\"Understand the topic of Natural Language Processing and summarize it for me\",\n",
        "    agent=data_analyst,\n",
        "    expected_output='I want the response to be as short as possible.'\n",
        ")\n",
        "\n",
        "crew = Crew(\n",
        "    tasks=[test_task],\n",
        "    process=Process.sequential,\n",
        ")\n",
        "\n",
        "output = crew.kickoff()"
      ]
    },
    {
      "cell_type": "code",
      "execution_count": null,
      "metadata": {
        "id": "LQSl499hFNLI"
      },
      "outputs": [],
      "source": [
        "print(output.raw)"
      ]
    },
    {
      "cell_type": "code",
      "execution_count": null,
      "metadata": {
        "id": "17JllC9ZQKEd"
      },
      "outputs": [],
      "source": [
        "from langchain_openai import ChatOpenAI\n",
        "\n",
        "nlp_task = Task(\n",
        "    description=\"Understand the topic of Natural Language Processing and sumamrize it for me\",\n",
        "    # agent=data_analyst,  # commenting out the agent now, letting the manager decide\n",
        "    expected_output='Give a correct response'\n",
        ")\n",
        "\n",
        "calculator_agent = Agent(\n",
        "    role='Calculator',\n",
        "    goal=f'You calculate things',\n",
        "    backstory='You love math',\n",
        "    verbose=True,\n",
        "    allow_delegation=False,\n",
        "    tools=[]\n",
        ")\n",
        "\n",
        "math_task = Task(\n",
        "    description=\"Tell me what 123 * 34 is\",\n",
        "    expected_output='Calculate this'\n",
        ")\n",
        "\n",
        "\n",
        "crew = Crew(\n",
        "    tasks=[math_task, nlp_task],\n",
        "    agents=[calculator_agent, data_analyst],\n",
        "    process=Process.hierarchical,\n",
        "    manager_llm=ChatOpenAI(model_name=\"gpt-3.5-turbo\", temperature=0.7),  # required if you are using hierarhical\n",
        "    verbose=True\n",
        ")\n",
        "\n",
        "output = crew.kickoff()"
      ]
    },
    {
      "cell_type": "code",
      "execution_count": null,
      "metadata": {
        "id": "M2BBfIw4SQwp"
      },
      "outputs": [],
      "source": [
        "for output in output.tasks_output:\n",
        "    print(output)\n",
        "    print('----')"
      ]
    },
    {
      "cell_type": "code",
      "execution_count": null,
      "metadata": {
        "id": "TxxWR_-2QJ7o"
      },
      "outputs": [],
      "source": [
        "output.raw"
      ]
    },
    {
      "cell_type": "code",
      "execution_count": null,
      "metadata": {
        "id": "5TjvacaTyMu5"
      },
      "outputs": [],
      "source": []
    },
    {
      "cell_type": "code",
      "execution_count": null,
      "metadata": {
        "id": "olWDNwhjyMu5"
      },
      "outputs": [],
      "source": []
    },
    {
      "cell_type": "markdown",
      "metadata": {
        "id": "CcuS86aSFNn6"
      },
      "source": [
        "# LangChain + CrewAI"
      ]
    },
    {
      "cell_type": "code",
      "execution_count": null,
      "metadata": {
        "id": "rnIlXglbEjHT"
      },
      "outputs": [],
      "source": [
        "import os\n",
        "\n",
        "from langchain_community.tools import DuckDuckGoSearchRun  # Initialize the tool\n",
        "\n",
        "search_ddg_tool = DuckDuckGoSearchRun()"
      ]
    },
    {
      "cell_type": "code",
      "execution_count": null,
      "metadata": {
        "id": "u0E8Ng76QiWQ"
      },
      "outputs": [],
      "source": [
        "search_ddg_tool.run('capital of Turkey')"
      ]
    },
    {
      "cell_type": "code",
      "execution_count": null,
      "metadata": {
        "id": "OSpJ5CHpyMu5"
      },
      "outputs": [],
      "source": [
        "from crewai_tools import tool\n",
        "\n",
        "@tool('DuckDuckGoSearch')\n",
        "def ddg_search(search_query: str):\n",
        "    \"\"\"Search the web for information on a given topic\"\"\"\n",
        "    return search_ddg_tool.run(search_query)\n"
      ]
    },
    {
      "cell_type": "code",
      "execution_count": null,
      "metadata": {
        "id": "L8SjLbO0FM-H",
        "scrolled": true
      },
      "outputs": [],
      "source": [
        "researcher = Agent(\n",
        "  role='Senior Research Analyst',\n",
        "  goal='Uncover cutting-edge developments in AI and data science',\n",
        "  backstory=\"\"\"You work at a leading tech think tank.\n",
        "  Your expertise lies in identifying emerging trends.\n",
        "  You have a knack for dissecting complex data and presenting actionable insights.\"\"\",\n",
        "  verbose=True,\n",
        "  allow_delegation=False,\n",
        "  tools=[ddg_search]\n",
        ")\n",
        "\n",
        "writer = Agent(\n",
        "  role='Tech Content Strategist',\n",
        "  goal='Craft compelling content on tech advancements',\n",
        "  backstory=\"\"\"You are a renowned Content Strategist, known for your insightful and engaging articles.\n",
        "  You transform complex concepts into compelling narratives.\"\"\",\n",
        "  verbose=True,\n",
        "  allow_delegation=True\n",
        ")"
      ]
    },
    {
      "cell_type": "code",
      "execution_count": null,
      "metadata": {
        "id": "A0QvDeQ0FYZg"
      },
      "outputs": [],
      "source": [
        "# Create tasks for your agents\n",
        "task1 = Task(\n",
        "  description=\"\"\"Conduct a comprehensive analysis of the latest advancements in AI in 2024.\n",
        "  Identify key trends, breakthrough technologies, and potential industry impacts.\"\"\",\n",
        "  expected_output=\"Full analysis report in bullet points\",\n",
        "  agent=researcher\n",
        ")\n",
        "\n",
        "task2 = Task(\n",
        "  description=\"\"\"Using the insights provided, develop an engaging blog\n",
        "  post that highlights the most significant AI advancements.\n",
        "  Your post should be informative yet accessible, catering to a tech-savvy audience.\n",
        "  Make it sound cool, avoid complex words so it doesn't sound like AI.\"\"\",\n",
        "  expected_output=\"Full blog post of at least 4 paragraphs\",\n",
        "  agent=writer\n",
        ")"
      ]
    },
    {
      "cell_type": "code",
      "execution_count": null,
      "metadata": {
        "id": "p1xSU8irFecI"
      },
      "outputs": [],
      "source": [
        "# Instantiate your crew with a sequential process\n",
        "crew = Crew(\n",
        "  agents=[researcher, writer],\n",
        "  tasks=[task1, task2],\n",
        "  process=Process.sequential,\n",
        ")"
      ]
    },
    {
      "cell_type": "code",
      "execution_count": null,
      "metadata": {
        "id": "lYZ-COOUFgpX",
        "scrolled": true
      },
      "outputs": [],
      "source": [
        "# writes tries to delegate to research analyst. WRONG!\n",
        "result = crew.kickoff()\n",
        "\n",
        "print(\"-----------------------------\")\n",
        "print(result)\n"
      ]
    },
    {
      "cell_type": "code",
      "execution_count": null,
      "metadata": {
        "id": "RnjAMJ4-KdMZ"
      },
      "outputs": [],
      "source": []
    },
    {
      "cell_type": "code",
      "execution_count": null,
      "metadata": {
        "id": "_e9HwsszKdOx"
      },
      "outputs": [],
      "source": [
        "writer.allow_delegation = False  # turn off delegation, resulting in all hard-coded delegation"
      ]
    },
    {
      "cell_type": "code",
      "execution_count": null,
      "metadata": {
        "id": "tV3hVcYCKdRd"
      },
      "outputs": [],
      "source": [
        "# Create tasks for your agents\n",
        "task1 = Task(\n",
        "  description=\"\"\"Conduct a comprehensive analysis of the latest advancements in AI in 2024.\n",
        "  Identify key trends, breakthrough technologies, and potential industry impacts.\"\"\",\n",
        "  expected_output=\"Full analysis report in bullet points\",\n",
        "  agent=researcher\n",
        ")\n",
        "\n",
        "task2 = Task(\n",
        "  description=\"\"\"Using the insights provided, develop an engaging blog\n",
        "  post that highlights the most significant AI advancements.\n",
        "  Your post should be informative yet accessible, catering to a tech-savvy audience.\n",
        "  Make it sound cool, avoid complex words so it doesn't sound like AI.\"\"\",\n",
        "  expected_output=\"Full blog post of at least 4 paragraphs\",\n",
        "  agent=writer\n",
        ")"
      ]
    },
    {
      "cell_type": "code",
      "execution_count": null,
      "metadata": {
        "id": "E9xPH3WNKtHs",
        "scrolled": true
      },
      "outputs": [],
      "source": [
        "# Instantiate your crew with a sequential process\n",
        "crew = Crew(\n",
        "  agents=[researcher, writer],\n",
        "  tasks=[task1, task2],\n",
        "  process=Process.sequential,\n",
        ")\n",
        "result = crew.kickoff()\n",
        "print(\"-----------------------------\")\n",
        "print(result)"
      ]
    },
    {
      "cell_type": "code",
      "execution_count": null,
      "metadata": {
        "id": "jib9k1zAFlQL"
      },
      "outputs": [],
      "source": [
        "print(task1.output.raw)"
      ]
    },
    {
      "cell_type": "code",
      "execution_count": null,
      "metadata": {
        "id": "lXrjZSgIFnwM"
      },
      "outputs": [],
      "source": [
        "print(task2.output.raw)"
      ]
    },
    {
      "cell_type": "markdown",
      "metadata": {
        "id": "FOEeK473yMu7"
      },
      "source": [
        "# Building a Search Agent with a Custom Tool"
      ]
    },
    {
      "cell_type": "code",
      "execution_count": null,
      "metadata": {
        "id": "RAjPodPJFoLj"
      },
      "outputs": [],
      "source": [
        "# use langhcain chatllm\n",
        "from langchain_openai import ChatOpenAI\n",
        "\n",
        "researcher = Agent(\n",
        "  role='Senior Research Analyst',\n",
        "  goal='Uncover cutting-edge developments in AI and data science',\n",
        "  backstory=\"\"\"You work at a leading tech think tank.\n",
        "  Your expertise lies in identifying emerging trends.\n",
        "  You have a knack for dissecting complex data and presenting actionable insights.\"\"\",\n",
        "  verbose=True,\n",
        "  allow_delegation=False,\n",
        "  tools=[ddg_search],\n",
        "  llm=ChatOpenAI(model_name=\"gpt-4o-mini\", temperature=0.4)\n",
        ")"
      ]
    },
    {
      "cell_type": "code",
      "execution_count": null,
      "metadata": {
        "id": "pUbPFm2gyMu7"
      },
      "outputs": [],
      "source": [
        "os.environ[\"SERP_API_KEY\"] = 'your_serp_key'"
      ]
    },
    {
      "cell_type": "code",
      "execution_count": null,
      "metadata": {
        "id": "CmK2pvdELFM0"
      },
      "outputs": [],
      "source": [
        "import json\n",
        "import os\n",
        "import requests\n",
        "from crewai import Agent, Task\n",
        "from langchain.tools import tool\n",
        "from serpapi import GoogleSearch\n",
        "from crewai_tools import BaseTool\n",
        "\n",
        "class SearchTool(BaseTool):\n",
        "    name: str = \"Google Search\"\n",
        "    description: str = \"\"\"Useful to search the internet about a given topic and return relevant results.\"\"\"\n",
        "\n",
        "    def _run(self, query: str, top_k: int = 3) -> str:\n",
        "        params: dict = {\n",
        "            \"engine\": \"google\",\n",
        "            \"google_domain\": \"google.com\",\n",
        "            \"gl\": \"us\",\n",
        "            \"hl\": \"en\",\n",
        "            \"q\": query,\n",
        "            \"api_key\": os.environ[\"SERP_API_KEY\"],\n",
        "        }\n",
        "\n",
        "        search = GoogleSearch(params)\n",
        "        response = search.get_dict()\n",
        "        # check if there is an organic results key, don't include sponsor results\n",
        "        if 'organic_results' not in response:\n",
        "            return \"Sorry, I couldn't find anything about that, there could be an error with you serper api key.\"\n",
        "        else:\n",
        "            results = response['organic_results']\n",
        "            string = []\n",
        "            for result in results[:top_k]:\n",
        "                try:\n",
        "                    string.append('\\n'.join([\n",
        "                        f\"Title: {result['title']}\", f\"Link: {result['link']}\",\n",
        "                        f\"Snippet: {result['snippet']}\", \"\\n-----------------\"\n",
        "                    ]))\n",
        "                except KeyError:\n",
        "                    next\n",
        "\n",
        "            return '\\n'.join(string)"
      ]
    },
    {
      "cell_type": "code",
      "execution_count": null,
      "metadata": {
        "id": "YLYvQlTzRkOV"
      },
      "outputs": [],
      "source": [
        "SearchTool().description # where I specifically describe how to use the tool"
      ]
    },
    {
      "cell_type": "code",
      "execution_count": null,
      "metadata": {
        "id": "e0Nq3MtdLFec"
      },
      "outputs": [],
      "source": [
        "print(SearchTool().run(query=\"Who is Sinan Ozdemir?\"))"
      ]
    },
    {
      "cell_type": "code",
      "execution_count": null,
      "metadata": {
        "id": "IyH-EkP1YNPB",
        "scrolled": true
      },
      "outputs": [],
      "source": [
        "researcher_agent = Agent(\n",
        "    role='Researcher',\n",
        "    goal='Look up information on the internet and scrape the websites for relevant information',\n",
        "    backstory=\"\"\"You have a knack for dissecting complex data and presenting actionable insights.\"\"\",\n",
        "    tools=[\n",
        "        SearchTool()\n",
        "    ],\n",
        "    verbose=True\n",
        ")\n",
        "email_agent = Agent(\n",
        "    role='Emailer',\n",
        "    goal='Write short, warm emails to people',\n",
        "    backstory=\"\"\"You are an assistant.\"\"\",\n",
        "    tools=[],\n",
        "    verbose=True\n",
        ")\n",
        "\n",
        "sample_lookup_task = Task(\n",
        "  description=\"\"\"Lookup Sinan Ozdemir\"\"\",\n",
        "  expected_output=\"A lookup report of a query\",\n",
        "  agent=researcher_agent\n",
        ")\n",
        "\n",
        "email_task = Task(\n",
        "  description=\"\"\"Write an email to Sinan Ozdemir asking him to get coffee. Personalize it\"\"\",\n",
        "  expected_output=\"A short warm email\",\n",
        "  agent=email_agent\n",
        ")\n",
        "\n",
        "crew = Crew(\n",
        "    tasks=[sample_lookup_task, email_task],\n",
        "    process=Process.sequential,\n",
        "    verbose=True\n",
        ")\n",
        "\n",
        "result = crew.kickoff()"
      ]
    },
    {
      "cell_type": "code",
      "execution_count": null,
      "metadata": {
        "id": "IoF6SZU5Yqr_"
      },
      "outputs": [],
      "source": [
        "print(result)"
      ]
    },
    {
      "cell_type": "code",
      "execution_count": null,
      "metadata": {
        "id": "694p5KZ-yMu8"
      },
      "outputs": [],
      "source": []
    },
    {
      "cell_type": "markdown",
      "metadata": {
        "id": "wtl-CGJbUR0k"
      },
      "source": [
        "## Trip Advisor"
      ]
    },
    {
      "cell_type": "code",
      "execution_count": null,
      "metadata": {
        "id": "j8vrP-TTMPhO"
      },
      "outputs": [],
      "source": [
        "from crewai import Agent\n",
        "\n",
        "class TripAgents():\n",
        "\n",
        "  def local_expert(self):\n",
        "    return Agent(\n",
        "        role='Local Expert at this city',\n",
        "        goal='Provide 2-3 insights about the selected city',\n",
        "        backstory=\"\"\"A knowledgeable local guide with extensive information\n",
        "        about the city, it's attractions and customs\"\"\",\n",
        "        tools=[\n",
        "            SearchTool(),\n",
        "            scrape_tool\n",
        "        ],\n",
        "        verbose=True)\n",
        "\n",
        "  def travel_concierge(self):\n",
        "    return Agent(\n",
        "        role='Amazing Travel Concierge',\n",
        "        goal=\"\"\"Create the most amazing travel itineraries with budget and\n",
        "        packing suggestions for the city\"\"\",\n",
        "        backstory=\"\"\"Specialist in travel planning and logistics with\n",
        "        decades of experience\"\"\",\n",
        "        tools=[],\n",
        "        verbose=True)"
      ]
    },
    {
      "cell_type": "code",
      "execution_count": null,
      "metadata": {
        "id": "QYe16BtJMqXc"
      },
      "outputs": [],
      "source": [
        "from crewai import Task\n",
        "from textwrap import dedent\n",
        "from datetime import date\n",
        "\n",
        "\n",
        "class TripTasks():\n",
        "\n",
        "  def gather_task(self, agent, origin, city, interests, range):\n",
        "    return Task(description= dedent(f\"\"\"\n",
        "        I want you to create a comprehensive city guide.\n",
        "        This guide should provide a thorough overview of what\n",
        "        the city has to offer, including hidden gems, cultural\n",
        "        hotspots, and must-visit landmarks.\n",
        "\n",
        "        Trip Date: {range}\n",
        "        Traveling from: {origin}\n",
        "        Traveling to: {city}\n",
        "        Traveler Interests: {interests}\n",
        "        \"\"\"),\n",
        "\n",
        "            expected_output=dedent(f\"\"\"\n",
        "        The final answer must be a comprehensive city guide,\n",
        "        rich in cultural insights and practical tips,\n",
        "        tailored to enhance the travel experience.\n",
        "\n",
        "        \"\"\"),\n",
        "                agent=agent)\n",
        "\n",
        "  def plan_task(self, agent, origin, city, interests, range):\n",
        "    return Task(description=dedent(f\"\"\"\n",
        "        Expand this guide into a a full 1-day travel\n",
        "        itinerary with detailed per-day plans, including\n",
        "        weather forecasts, places to eat, packing suggestions,\n",
        "        and a budget breakdown.\n",
        "\n",
        "        You MUST suggest actual places to visit, actual hotels\n",
        "        to stay and actual restaurants to go to.\n",
        "\n",
        "        Trip Date: {range}\n",
        "        Traveling from: {origin}\n",
        "        Traveling to: {city}\n",
        "        Traveler Interests: {interests}\n",
        "      \"\"\"),\n",
        "            expected_output=dedent(f\"\"\"\n",
        "        Your final answer MUST be a complete expanded travel plan,\n",
        "        formatted as markdown, encompassing a daily schedule,\n",
        "        anticipated weather conditions, recommended clothing and\n",
        "        items to pack, and a detailed budget, ensuring THE BEST\n",
        "        TRIP EVER, Be specific and give it a reason why you picked\n",
        "        # up each place, what make them special!\n",
        "        \"\"\"),\n",
        "                agent=agent)"
      ]
    },
    {
      "cell_type": "code",
      "execution_count": null,
      "metadata": {
        "id": "TgHQj6IDMqjO"
      },
      "outputs": [],
      "source": [
        "class TripCrew:\n",
        "\n",
        "  def __init__(self, origin, city, date_range, interests):\n",
        "    self.city = city\n",
        "    self.origin = origin\n",
        "    self.interests = interests\n",
        "    self.date_range = date_range\n",
        "\n",
        "  def run(self):\n",
        "    agents = TripAgents()\n",
        "    tasks = TripTasks()\n",
        "\n",
        "    gather_task = tasks.gather_task(\n",
        "      agents.local_expert(),\n",
        "      self.origin,\n",
        "      self.city,\n",
        "      self.interests,\n",
        "      self.date_range\n",
        "    )\n",
        "    plan_task = tasks.plan_task(\n",
        "      agents.travel_concierge(),\n",
        "      self.origin,\n",
        "      self.city,\n",
        "      self.interests,\n",
        "      self.date_range\n",
        "    )\n",
        "\n",
        "    # Initiate Crew\n",
        "    crew = Crew(\n",
        "      tasks=[gather_task, plan_task],\n",
        "      process=Process.sequential,\n",
        "      verbose=True\n",
        "    )\n",
        "\n",
        "    result = crew.kickoff()\n",
        "    return result"
      ]
    },
    {
      "cell_type": "code",
      "execution_count": null,
      "metadata": {
        "id": "dxd8tSOqPdAr",
        "scrolled": true
      },
      "outputs": [],
      "source": [
        "trip_crew = TripCrew('SF', \"Paris\", 'June 2025', 'art')\n",
        "result = trip_crew.run()"
      ]
    },
    {
      "cell_type": "code",
      "execution_count": null,
      "metadata": {
        "id": "CyfyYvi7PyPk",
        "scrolled": true
      },
      "outputs": [],
      "source": [
        "print(result)"
      ]
    },
    {
      "cell_type": "code",
      "execution_count": null,
      "metadata": {
        "id": "aeNdhcPWMr-J",
        "scrolled": true
      },
      "outputs": [],
      "source": [
        "print(\"## Welcome to Trip Planner Crew\")\n",
        "print('-——————————')\n",
        "location = input(\n",
        "dedent(\"\"\"\n",
        "  From where will you be traveling from?\n",
        "\"\"\"))\n",
        "city = input(\n",
        "dedent(\"\"\"\n",
        "  Where do you want to go?\n",
        "\"\"\"))\n",
        "date_range = input(\n",
        "dedent(\"\"\"\n",
        "  What is the date range you are interested in traveling?\n",
        "\"\"\"))\n",
        "interests = input(\n",
        "dedent(\"\"\"\n",
        "  What are some of your high level interests and hobbies?\n",
        "\"\"\"))\n",
        "\n",
        "trip_crew = TripCrew(location, city, date_range, interests)\n",
        "result = trip_crew.run()"
      ]
    },
    {
      "cell_type": "code",
      "execution_count": null,
      "metadata": {
        "id": "ME_C44dtyMvB"
      },
      "outputs": [],
      "source": [
        "print(\"\\n\\n########################\")\n",
        "print(\"## Here is your Trip Plan\")\n",
        "print(\"########################\\n\")\n",
        "print(result)"
      ]
    },
    {
      "cell_type": "code",
      "execution_count": null,
      "metadata": {
        "id": "kG4GjjYDyMvB"
      },
      "outputs": [],
      "source": []
    }
  ],
  "metadata": {
    "colab": {
      "provenance": [],
      "include_colab_link": true
    },
    "kernelspec": {
      "display_name": "Python 3",
      "name": "python3"
    },
    "language_info": {
      "codemirror_mode": {
        "name": "ipython",
        "version": 3
      },
      "file_extension": ".py",
      "mimetype": "text/x-python",
      "name": "python",
      "nbconvert_exporter": "python",
      "pygments_lexer": "ipython3",
      "version": "3.11.9"
    }
  },
  "nbformat": 4,
  "nbformat_minor": 0
}